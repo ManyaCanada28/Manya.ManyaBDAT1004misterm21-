{
 "cells": [
  {
   "cell_type": "markdown",
   "id": "90446e67-4282-4d21-89c4-5c3b9382ad94",
   "metadata": {},
   "source": [
    "# Question number 21"
   ]
  },
  {
   "cell_type": "markdown",
   "id": "e1a21145-849b-4eef-9b9d-f13e9d9d7342",
   "metadata": {},
   "source": [
    "__int()__: Constructor that takes as input a pair of Point objects that represent the ends points of the line segment\n",
    "Length():: returns the length if the segment \n",
    "Slope() returns the slope of the segment of none if the slope is unbounded \n",
    " \n",
    ">>> p1 = Point(3,4)\n",
    ">>> p2 = Point()\n",
    ">>> s = Segment(p1,p2)\n",
    ">>> s.length()\n",
    "5.0\n",
    ">>> s.slope()\n",
    "0.75"
   ]
  },
  {
   "cell_type": "code",
   "execution_count": 3,
   "id": "7b9ae79f-6328-4c2d-ba24-521d80ff79ad",
   "metadata": {},
   "outputs": [
    {
     "name": "stdout",
     "output_type": "stream",
     "text": [
      "Segment Information:\n",
      "Segment from (4, 3) to (0, 0)\n",
      "Length: 5.00\n",
      "Slope: 0.75\n"
     ]
    }
   ],
   "source": [
    "# Importing math library for sqrt function\n",
    "\n",
    "import math\n",
    "\n",
    "class Point:\n",
    "    def __init__(self, x=0, y=0):\n",
    "        self.x = x\n",
    "        self.y = y\n",
    "\n",
    "    def __str__(self):\n",
    "        return f\"({self.x}, {self.y})\"\n",
    "\n",
    "class Segment:\n",
    "    def __init__(self, p1, p2):\n",
    "        self.p1 = p1\n",
    "        self.p2 = p2\n",
    "\n",
    "    def length(self):\n",
    "        \"\"\"\n",
    "        Calculate the length of the segment using the distance formula.\n",
    "\n",
    "        Returns:\n",
    "        float: Length of the segment.\n",
    "        \"\"\"\n",
    "        return math.sqrt((self.p2.x - self.p1.x)**2 + (self.p2.y - self.p1.y)**2)\n",
    "\n",
    "    def slope(self):\n",
    "        \"\"\"\n",
    "        Calculate the slope of the segment.\n",
    "\n",
    "        Returns:\n",
    "        float or None: Slope of the segment if defined, None if the segment is vertical.\n",
    "        \"\"\"\n",
    "        if self.p2.x - self.p1.x == 0:\n",
    "            return None\n",
    "        return (self.p2.y - self.p1.y) / (self.p2.x - self.p1.x)\n",
    "\n",
    "    def __str__(self):\n",
    "        len_output = f\"Length: {self.length():.2f}\"\n",
    "        slope_output = f\"Slope: {self.slope()}\"\n",
    "        return f\"Segment from {self.p1} to {self.p2}\\n{len_output}\\n{slope_output}\"\n",
    "\n",
    "# Example usage:\n",
    "p1 = Point(4, 3)\n",
    "p2 = Point(0, 0)\n",
    "\n",
    "s = Segment(p1, p2)\n",
    "\n",
    "print(\"Segment Information:\")\n",
    "print(s)"
   ]
  },
  {
   "cell_type": "code",
   "execution_count": null,
   "id": "e3047c23-19ca-4e0c-af28-b782b2e91e02",
   "metadata": {},
   "outputs": [],
   "source": []
  }
 ],
 "metadata": {
  "kernelspec": {
   "display_name": "Python 3 (ipykernel)",
   "language": "python",
   "name": "python3"
  },
  "language_info": {
   "codemirror_mode": {
    "name": "ipython",
    "version": 3
   },
   "file_extension": ".py",
   "mimetype": "text/x-python",
   "name": "python",
   "nbconvert_exporter": "python",
   "pygments_lexer": "ipython3",
   "version": "3.11.7"
  }
 },
 "nbformat": 4,
 "nbformat_minor": 5
}
